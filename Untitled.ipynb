{
 "cells": [
  {
   "cell_type": "code",
   "execution_count": 30,
   "metadata": {
    "collapsed": true
   },
   "outputs": [],
   "source": [
    "import pandas as pd\n",
    "import openpyxl as pyxl\n",
    "import os"
   ]
  },
  {
   "cell_type": "code",
   "execution_count": 55,
   "metadata": {
    "collapsed": false
   },
   "outputs": [
    {
     "data": {
      "text/html": [
       "<div>\n",
       "<table border=\"1\" class=\"dataframe\">\n",
       "  <thead>\n",
       "    <tr style=\"text-align: right;\">\n",
       "      <th></th>\n",
       "      <th>N1Acres</th>\n",
       "      <th>N1Amenities</th>\n",
       "      <th>N1AmenitiesComments</th>\n",
       "      <th>N1AmenitiesCondition</th>\n",
       "      <th>N1AmenitiesDeficiencies</th>\n",
       "      <th>N1BuildingFacadeComments</th>\n",
       "      <th>N1BuildingFacadeCondition</th>\n",
       "      <th>N1BuildingFacadeDeficiencies</th>\n",
       "      <th>N1BuildingFacadeDescription</th>\n",
       "      <th>N1BuildingFacadeLastPainted</th>\n",
       "      <th>...</th>\n",
       "      <th>N1totalreserves20yearsuninflated</th>\n",
       "      <th>N1totalreserves5yearsinflated</th>\n",
       "      <th>N1unitreservesallyearsuniinflated</th>\n",
       "      <th>SheetList</th>\n",
       "      <th>number_1</th>\n",
       "      <th>str_1</th>\n",
       "      <th>str_2</th>\n",
       "      <th>test_1</th>\n",
       "      <th>test_2</th>\n",
       "      <th>test_3</th>\n",
       "    </tr>\n",
       "  </thead>\n",
       "  <tbody>\n",
       "    <tr>\n",
       "      <th>N1 USDA Property AssessmentV3.xlsm</th>\n",
       "      <td>5</td>\n",
       "      <td>None</td>\n",
       "      <td>None</td>\n",
       "      <td>None</td>\n",
       "      <td>Yes      or      No</td>\n",
       "      <td>None</td>\n",
       "      <td>None</td>\n",
       "      <td>Yes      or      No</td>\n",
       "      <td>Please select the appropriate description of t...</td>\n",
       "      <td></td>\n",
       "      <td>...</td>\n",
       "      <td>22500</td>\n",
       "      <td>0</td>\n",
       "      <td>#DIV/0!</td>\n",
       "      <td>|Summary|Photo Checklist|Assessment Page 1|Ass...</td>\n",
       "      <td>NaN</td>\n",
       "      <td>NaN</td>\n",
       "      <td>NaN</td>\n",
       "      <td>NaN</td>\n",
       "      <td>NaN</td>\n",
       "      <td>NaN</td>\n",
       "    </tr>\n",
       "    <tr>\n",
       "      <th>N1 USDA Property AssessmentV4.xlsm</th>\n",
       "      <td>5</td>\n",
       "      <td>None</td>\n",
       "      <td>None</td>\n",
       "      <td>None</td>\n",
       "      <td>Yes      or      No</td>\n",
       "      <td>None</td>\n",
       "      <td>None</td>\n",
       "      <td>Yes      or      No</td>\n",
       "      <td>Please select the appropriate description of t...</td>\n",
       "      <td></td>\n",
       "      <td>...</td>\n",
       "      <td>22500</td>\n",
       "      <td>0</td>\n",
       "      <td>#DIV/0!</td>\n",
       "      <td>|Summary|Photo Checklist|Assessment Page 1|Ass...</td>\n",
       "      <td>NaN</td>\n",
       "      <td>NaN</td>\n",
       "      <td>NaN</td>\n",
       "      <td>NaN</td>\n",
       "      <td>NaN</td>\n",
       "      <td>NaN</td>\n",
       "    </tr>\n",
       "    <tr>\n",
       "      <th>Workbook1.xlsx</th>\n",
       "      <td>NaN</td>\n",
       "      <td>NaN</td>\n",
       "      <td>NaN</td>\n",
       "      <td>NaN</td>\n",
       "      <td>NaN</td>\n",
       "      <td>NaN</td>\n",
       "      <td>NaN</td>\n",
       "      <td>NaN</td>\n",
       "      <td>NaN</td>\n",
       "      <td>NaN</td>\n",
       "      <td>...</td>\n",
       "      <td>NaN</td>\n",
       "      <td>NaN</td>\n",
       "      <td>NaN</td>\n",
       "      <td>NaN</td>\n",
       "      <td>NaN</td>\n",
       "      <td>NaN</td>\n",
       "      <td>NaN</td>\n",
       "      <td>911</td>\n",
       "      <td>4506</td>\n",
       "      <td>234</td>\n",
       "    </tr>\n",
       "    <tr>\n",
       "      <th>Workbook2.xlsm</th>\n",
       "      <td>NaN</td>\n",
       "      <td>NaN</td>\n",
       "      <td>NaN</td>\n",
       "      <td>NaN</td>\n",
       "      <td>NaN</td>\n",
       "      <td>NaN</td>\n",
       "      <td>NaN</td>\n",
       "      <td>NaN</td>\n",
       "      <td>NaN</td>\n",
       "      <td>NaN</td>\n",
       "      <td>...</td>\n",
       "      <td>NaN</td>\n",
       "      <td>NaN</td>\n",
       "      <td>NaN</td>\n",
       "      <td>NaN</td>\n",
       "      <td>234</td>\n",
       "      <td>sdfs</td>\n",
       "      <td>aaa</td>\n",
       "      <td>911</td>\n",
       "      <td>4506</td>\n",
       "      <td>234</td>\n",
       "    </tr>\n",
       "  </tbody>\n",
       "</table>\n",
       "<p>4 rows × 189 columns</p>\n",
       "</div>"
      ],
      "text/plain": [
       "                                   N1Acres N1Amenities N1AmenitiesComments  \\\n",
       "N1 USDA Property AssessmentV3.xlsm       5        None                None   \n",
       "N1 USDA Property AssessmentV4.xlsm       5        None                None   \n",
       "Workbook1.xlsx                         NaN         NaN                 NaN   \n",
       "Workbook2.xlsm                         NaN         NaN                 NaN   \n",
       "\n",
       "                                   N1AmenitiesCondition  \\\n",
       "N1 USDA Property AssessmentV3.xlsm                 None   \n",
       "N1 USDA Property AssessmentV4.xlsm                 None   \n",
       "Workbook1.xlsx                                      NaN   \n",
       "Workbook2.xlsm                                      NaN   \n",
       "\n",
       "                                   N1AmenitiesDeficiencies  \\\n",
       "N1 USDA Property AssessmentV3.xlsm    Yes      or      No    \n",
       "N1 USDA Property AssessmentV4.xlsm    Yes      or      No    \n",
       "Workbook1.xlsx                                         NaN   \n",
       "Workbook2.xlsm                                         NaN   \n",
       "\n",
       "                                   N1BuildingFacadeComments  \\\n",
       "N1 USDA Property AssessmentV3.xlsm                     None   \n",
       "N1 USDA Property AssessmentV4.xlsm                     None   \n",
       "Workbook1.xlsx                                          NaN   \n",
       "Workbook2.xlsm                                          NaN   \n",
       "\n",
       "                                   N1BuildingFacadeCondition  \\\n",
       "N1 USDA Property AssessmentV3.xlsm                      None   \n",
       "N1 USDA Property AssessmentV4.xlsm                      None   \n",
       "Workbook1.xlsx                                           NaN   \n",
       "Workbook2.xlsm                                           NaN   \n",
       "\n",
       "                                   N1BuildingFacadeDeficiencies  \\\n",
       "N1 USDA Property AssessmentV3.xlsm         Yes      or      No    \n",
       "N1 USDA Property AssessmentV4.xlsm         Yes      or      No    \n",
       "Workbook1.xlsx                                              NaN   \n",
       "Workbook2.xlsm                                              NaN   \n",
       "\n",
       "                                                          N1BuildingFacadeDescription  \\\n",
       "N1 USDA Property AssessmentV3.xlsm  Please select the appropriate description of t...   \n",
       "N1 USDA Property AssessmentV4.xlsm  Please select the appropriate description of t...   \n",
       "Workbook1.xlsx                                                                    NaN   \n",
       "Workbook2.xlsm                                                                    NaN   \n",
       "\n",
       "                                   N1BuildingFacadeLastPainted  ...    \\\n",
       "N1 USDA Property AssessmentV3.xlsm                              ...     \n",
       "N1 USDA Property AssessmentV4.xlsm                              ...     \n",
       "Workbook1.xlsx                                             NaN  ...     \n",
       "Workbook2.xlsm                                             NaN  ...     \n",
       "\n",
       "                                   N1totalreserves20yearsuninflated  \\\n",
       "N1 USDA Property AssessmentV3.xlsm                            22500   \n",
       "N1 USDA Property AssessmentV4.xlsm                            22500   \n",
       "Workbook1.xlsx                                                  NaN   \n",
       "Workbook2.xlsm                                                  NaN   \n",
       "\n",
       "                                   N1totalreserves5yearsinflated  \\\n",
       "N1 USDA Property AssessmentV3.xlsm                             0   \n",
       "N1 USDA Property AssessmentV4.xlsm                             0   \n",
       "Workbook1.xlsx                                               NaN   \n",
       "Workbook2.xlsm                                               NaN   \n",
       "\n",
       "                                   N1unitreservesallyearsuniinflated  \\\n",
       "N1 USDA Property AssessmentV3.xlsm                           #DIV/0!   \n",
       "N1 USDA Property AssessmentV4.xlsm                           #DIV/0!   \n",
       "Workbook1.xlsx                                                   NaN   \n",
       "Workbook2.xlsm                                                   NaN   \n",
       "\n",
       "                                                                            SheetList  \\\n",
       "N1 USDA Property AssessmentV3.xlsm  |Summary|Photo Checklist|Assessment Page 1|Ass...   \n",
       "N1 USDA Property AssessmentV4.xlsm  |Summary|Photo Checklist|Assessment Page 1|Ass...   \n",
       "Workbook1.xlsx                                                                    NaN   \n",
       "Workbook2.xlsm                                                                    NaN   \n",
       "\n",
       "                                   number_1 str_1 str_2 test_1 test_2 test_3  \n",
       "N1 USDA Property AssessmentV3.xlsm      NaN   NaN   NaN    NaN    NaN    NaN  \n",
       "N1 USDA Property AssessmentV4.xlsm      NaN   NaN   NaN    NaN    NaN    NaN  \n",
       "Workbook1.xlsx                          NaN   NaN   NaN    911   4506    234  \n",
       "Workbook2.xlsm                          234  sdfs   aaa    911   4506    234  \n",
       "\n",
       "[4 rows x 189 columns]"
      ]
     },
     "execution_count": 55,
     "metadata": {},
     "output_type": "execute_result"
    }
   ],
   "source": [
    "import pandas as pd\n",
    "import openpyxl as pyxl\n",
    "import os\n",
    "\n",
    "def grab_values(excel_sheet):\n",
    "    wb = pyxl.load_workbook(excel_sheet, data_only=True)\n",
    "    ws_list = wb.get_sheet_names()\n",
    "    named_ranges = [named_range.name for named_range in wb.get_named_ranges()]\n",
    "    variable_dict = {}\n",
    "    for named_range in wb.get_named_ranges():\n",
    "        try:\n",
    "            sheet_name = named_range.destinations[0][0].title\n",
    "            cell_name = named_range.destinations[0][1].replace('$','')\n",
    "            variable_dict[named_range.name] = {}\n",
    "            variable_dict[named_range.name]['value'] = wb[sheet_name][cell_name].value\n",
    "            variable_dict[named_range.name]['sheet'] = sheet_name\n",
    "            variable_dict[named_range.name]['cell'] = cell_name\n",
    "        except:\n",
    "            pass\n",
    "    return variable_dict\n",
    "    \n",
    "def run_program():\n",
    "    list_of_dicts = {}\n",
    "    location_dicts = {}\n",
    "    for sheet in os.listdir(os.getcwd()):\n",
    "        try:\n",
    "            # location_dicts[sheet] = grab_values(\"{}\\\\{}\".format(os.getcwd(),sheet)) # windows\n",
    "            # temp_dict = grab_values(\"{}\\\\{}\".format(os.getcwd(),sheet)) # windows\n",
    "            # Uncomment above by highlighting the line and ctrl or cmd / removing the leftmost # if on windows and comment mac below\n",
    "            location_dicts[sheet] = grab_values(sheet) # mac\n",
    "            temp_dict = grab_values(sheet) # mac\n",
    "            df_dict = {}\n",
    "            for variable, dictionary in temp_dict.items():\n",
    "                try:\n",
    "                    df_dict[variable] = dictionary['value']\n",
    "                except:\n",
    "                    pass\n",
    "            list_of_dicts[sheet] = df_dict\n",
    "        except:\n",
    "            pass\n",
    "    df = pd.DataFrame(list_of_dicts).T\n",
    "    df.to_csv('named_range_database.csv', index_label='workbook')\n",
    "    return df, location_dicts\n",
    "\n",
    "def edit_all_files(new_csv, location_dict):\n",
    "    csv_dict = pd.read_csv(new_csv).T.to_dict()\n",
    "    for workbook_dict in csv_dict.values():\n",
    "        wb_filename = workbook_dict['workbook']\n",
    "        # wb = pyxl.load_workbook(\"{}\\\\{}\".format(os.getcwd(), wb_filename)) # windows\n",
    "        wb = pyxl.load_workbook(wb_filename) # mac\n",
    "        for variable, value in workbook_dict.items(): \n",
    "            if variable != \"workbook\":\n",
    "                try:\n",
    "                    sheet_name = location_dict[wb_filename][variable]['sheet']\n",
    "                    cell_name = location_dict[wb_filename][variable]['cell']\n",
    "                    wb[sheet_name][cell_name] = value\n",
    "                except:\n",
    "                    pass\n",
    "        # wb.save(\"{}\\\\{}\".format(os.getcwd(), wb_filename)) # windows       \n",
    "        wb.save(wb_filename) # mac\n",
    "        print('Saved {}'.format(wb_filename))\n",
    "\n",
    "df, excel_dicts = run_program()\n",
    "df\n",
    "\n"
   ]
  },
  {
   "cell_type": "code",
   "execution_count": 56,
   "metadata": {
    "collapsed": false
   },
   "outputs": [
    {
     "ename": "ValueError",
     "evalue": "Negative dates (nan) are not supported",
     "output_type": "error",
     "traceback": [
      "\u001b[0;31m---------------------------------------------------------------------------\u001b[0m",
      "\u001b[0;31mValueError\u001b[0m                                Traceback (most recent call last)",
      "\u001b[0;32m<ipython-input-56-851b325aea7b>\u001b[0m in \u001b[0;36m<module>\u001b[0;34m()\u001b[0m\n\u001b[0;32m----> 1\u001b[0;31m \u001b[0medit_all_files\u001b[0m\u001b[0;34m(\u001b[0m\u001b[0;34m'named_range_database.csv'\u001b[0m\u001b[0;34m,\u001b[0m \u001b[0mexcel_dicts\u001b[0m\u001b[0;34m)\u001b[0m \u001b[0;31m# run this if you want to edit original excel files\u001b[0m\u001b[0;34m\u001b[0m\u001b[0m\n\u001b[0m",
      "\u001b[0;32m<ipython-input-55-c2259b678f7a>\u001b[0m in \u001b[0;36medit_all_files\u001b[0;34m(new_csv, location_dict)\u001b[0m\n\u001b[1;32m     58\u001b[0m                     \u001b[0;32mpass\u001b[0m\u001b[0;34m\u001b[0m\u001b[0m\n\u001b[1;32m     59\u001b[0m         \u001b[0;31m# wb.save(\"{}\\\\{}\".format(os.getcwd(), wb_filename)) # windows\u001b[0m\u001b[0;34m\u001b[0m\u001b[0;34m\u001b[0m\u001b[0m\n\u001b[0;32m---> 60\u001b[0;31m         \u001b[0mwb\u001b[0m\u001b[0;34m.\u001b[0m\u001b[0msave\u001b[0m\u001b[0;34m(\u001b[0m\u001b[0mwb_filename\u001b[0m\u001b[0;34m)\u001b[0m \u001b[0;31m# mac\u001b[0m\u001b[0;34m\u001b[0m\u001b[0m\n\u001b[0m\u001b[1;32m     61\u001b[0m         \u001b[0mprint\u001b[0m\u001b[0;34m(\u001b[0m\u001b[0;34m'Saved {}'\u001b[0m\u001b[0;34m.\u001b[0m\u001b[0mformat\u001b[0m\u001b[0;34m(\u001b[0m\u001b[0mwb_filename\u001b[0m\u001b[0;34m)\u001b[0m\u001b[0;34m)\u001b[0m\u001b[0;34m\u001b[0m\u001b[0m\n\u001b[1;32m     62\u001b[0m \u001b[0;34m\u001b[0m\u001b[0m\n",
      "\u001b[0;32m/Users/tomnahass/anaconda/envs/py3.4/lib/python3.4/site-packages/openpyxl/workbook.py\u001b[0m in \u001b[0;36msave\u001b[0;34m(self, filename)\u001b[0m\n\u001b[1;32m    263\u001b[0m             \u001b[0msave_dump\u001b[0m\u001b[0;34m(\u001b[0m\u001b[0mself\u001b[0m\u001b[0;34m,\u001b[0m \u001b[0mfilename\u001b[0m\u001b[0;34m)\u001b[0m\u001b[0;34m\u001b[0m\u001b[0m\n\u001b[1;32m    264\u001b[0m         \u001b[0;32melse\u001b[0m\u001b[0;34m:\u001b[0m\u001b[0;34m\u001b[0m\u001b[0m\n\u001b[0;32m--> 265\u001b[0;31m             \u001b[0msave_workbook\u001b[0m\u001b[0;34m(\u001b[0m\u001b[0mself\u001b[0m\u001b[0;34m,\u001b[0m \u001b[0mfilename\u001b[0m\u001b[0;34m)\u001b[0m\u001b[0;34m\u001b[0m\u001b[0m\n\u001b[0m",
      "\u001b[0;32m/Users/tomnahass/anaconda/envs/py3.4/lib/python3.4/site-packages/openpyxl/writer/excel.py\u001b[0m in \u001b[0;36msave_workbook\u001b[0;34m(workbook, filename)\u001b[0m\n\u001b[1;32m    185\u001b[0m     \"\"\"\n\u001b[1;32m    186\u001b[0m     \u001b[0mwriter\u001b[0m \u001b[0;34m=\u001b[0m \u001b[0mExcelWriter\u001b[0m\u001b[0;34m(\u001b[0m\u001b[0mworkbook\u001b[0m\u001b[0;34m)\u001b[0m\u001b[0;34m\u001b[0m\u001b[0m\n\u001b[0;32m--> 187\u001b[0;31m     \u001b[0mwriter\u001b[0m\u001b[0;34m.\u001b[0m\u001b[0msave\u001b[0m\u001b[0;34m(\u001b[0m\u001b[0mfilename\u001b[0m\u001b[0;34m)\u001b[0m\u001b[0;34m\u001b[0m\u001b[0m\n\u001b[0m\u001b[1;32m    188\u001b[0m     \u001b[0;32mreturn\u001b[0m \u001b[0;32mTrue\u001b[0m\u001b[0;34m\u001b[0m\u001b[0m\n\u001b[1;32m    189\u001b[0m \u001b[0;34m\u001b[0m\u001b[0m\n",
      "\u001b[0;32m/Users/tomnahass/anaconda/envs/py3.4/lib/python3.4/site-packages/openpyxl/writer/excel.py\u001b[0m in \u001b[0;36msave\u001b[0;34m(self, filename)\u001b[0m\n\u001b[1;32m    168\u001b[0m         \u001b[0;34m\"\"\"Write data into the archive.\"\"\"\u001b[0m\u001b[0;34m\u001b[0m\u001b[0m\n\u001b[1;32m    169\u001b[0m         \u001b[0marchive\u001b[0m \u001b[0;34m=\u001b[0m \u001b[0mZipFile\u001b[0m\u001b[0;34m(\u001b[0m\u001b[0mfilename\u001b[0m\u001b[0;34m,\u001b[0m \u001b[0;34m'w'\u001b[0m\u001b[0;34m,\u001b[0m \u001b[0mZIP_DEFLATED\u001b[0m\u001b[0;34m)\u001b[0m\u001b[0;34m\u001b[0m\u001b[0m\n\u001b[0;32m--> 170\u001b[0;31m         \u001b[0mself\u001b[0m\u001b[0;34m.\u001b[0m\u001b[0mwrite_data\u001b[0m\u001b[0;34m(\u001b[0m\u001b[0marchive\u001b[0m\u001b[0;34m)\u001b[0m\u001b[0;34m\u001b[0m\u001b[0m\n\u001b[0m\u001b[1;32m    171\u001b[0m         \u001b[0marchive\u001b[0m\u001b[0;34m.\u001b[0m\u001b[0mclose\u001b[0m\u001b[0;34m(\u001b[0m\u001b[0;34m)\u001b[0m\u001b[0;34m\u001b[0m\u001b[0m\n\u001b[1;32m    172\u001b[0m \u001b[0;34m\u001b[0m\u001b[0m\n",
      "\u001b[0;32m/Users/tomnahass/anaconda/envs/py3.4/lib/python3.4/site-packages/openpyxl/writer/excel.py\u001b[0m in \u001b[0;36mwrite_data\u001b[0;34m(self, archive)\u001b[0m\n\u001b[1;32m     74\u001b[0m         \u001b[0;34m\"\"\"Write the various xml files into the zip archive.\"\"\"\u001b[0m\u001b[0;34m\u001b[0m\u001b[0m\n\u001b[1;32m     75\u001b[0m         \u001b[0;31m# cleanup all worksheets\u001b[0m\u001b[0;34m\u001b[0m\u001b[0;34m\u001b[0m\u001b[0m\n\u001b[0;32m---> 76\u001b[0;31m         \u001b[0mshared_string_table\u001b[0m \u001b[0;34m=\u001b[0m \u001b[0mself\u001b[0m\u001b[0;34m.\u001b[0m\u001b[0m_write_string_table\u001b[0m\u001b[0;34m(\u001b[0m\u001b[0marchive\u001b[0m\u001b[0;34m)\u001b[0m\u001b[0;34m\u001b[0m\u001b[0m\n\u001b[0m\u001b[1;32m     77\u001b[0m \u001b[0;34m\u001b[0m\u001b[0m\n\u001b[1;32m     78\u001b[0m         \u001b[0marchive\u001b[0m\u001b[0;34m.\u001b[0m\u001b[0mwritestr\u001b[0m\u001b[0;34m(\u001b[0m\u001b[0mARC_CONTENT_TYPES\u001b[0m\u001b[0;34m,\u001b[0m \u001b[0mwrite_content_types\u001b[0m\u001b[0;34m(\u001b[0m\u001b[0mself\u001b[0m\u001b[0;34m.\u001b[0m\u001b[0mworkbook\u001b[0m\u001b[0;34m)\u001b[0m\u001b[0;34m)\u001b[0m\u001b[0;34m\u001b[0m\u001b[0m\n",
      "\u001b[0;32m/Users/tomnahass/anaconda/envs/py3.4/lib/python3.4/site-packages/openpyxl/writer/excel.py\u001b[0m in \u001b[0;36m_write_string_table\u001b[0;34m(self, archive)\u001b[0m\n\u001b[1;32m    101\u001b[0m \u001b[0;34m\u001b[0m\u001b[0m\n\u001b[1;32m    102\u001b[0m         \u001b[0;32mfor\u001b[0m \u001b[0mws\u001b[0m \u001b[0;32min\u001b[0m \u001b[0mself\u001b[0m\u001b[0;34m.\u001b[0m\u001b[0mworkbook\u001b[0m\u001b[0;34m.\u001b[0m\u001b[0mworksheets\u001b[0m\u001b[0;34m:\u001b[0m\u001b[0;34m\u001b[0m\u001b[0m\n\u001b[0;32m--> 103\u001b[0;31m             \u001b[0mws\u001b[0m\u001b[0;34m.\u001b[0m\u001b[0mgarbage_collect\u001b[0m\u001b[0;34m(\u001b[0m\u001b[0;34m)\u001b[0m\u001b[0;34m\u001b[0m\u001b[0m\n\u001b[0m\u001b[1;32m    104\u001b[0m         \u001b[0mshared_string_table\u001b[0m \u001b[0;34m=\u001b[0m \u001b[0mcreate_string_table\u001b[0m\u001b[0;34m(\u001b[0m\u001b[0mself\u001b[0m\u001b[0;34m.\u001b[0m\u001b[0mworkbook\u001b[0m\u001b[0;34m)\u001b[0m\u001b[0;34m\u001b[0m\u001b[0m\n\u001b[1;32m    105\u001b[0m         archive.writestr(ARC_SHARED_STRINGS,\n",
      "\u001b[0;32m/Users/tomnahass/anaconda/envs/py3.4/lib/python3.4/site-packages/openpyxl/worksheet.py\u001b[0m in \u001b[0;36mgarbage_collect\u001b[0;34m(self)\u001b[0m\n\u001b[1;32m    500\u001b[0m         \u001b[0;34m\"\"\"Delete cells that are not storing a value.\"\"\"\u001b[0m\u001b[0;34m\u001b[0m\u001b[0m\n\u001b[1;32m    501\u001b[0m         delete_list = [coordinate for coordinate, cell in \\\n\u001b[0;32m--> 502\u001b[0;31m             iteritems(self._cells) if (not cell.merged and cell.value in ('', None) and \\\n\u001b[0m\u001b[1;32m    503\u001b[0m             cell.comment is None and (coordinate not in self._styles or\n\u001b[1;32m    504\u001b[0m             hash(cell.style) == _DEFAULTS_STYLE_HASH))]\n",
      "\u001b[0;32m/Users/tomnahass/anaconda/envs/py3.4/lib/python3.4/site-packages/openpyxl/worksheet.py\u001b[0m in \u001b[0;36m<listcomp>\u001b[0;34m(.0)\u001b[0m\n\u001b[1;32m    500\u001b[0m         \u001b[0;34m\"\"\"Delete cells that are not storing a value.\"\"\"\u001b[0m\u001b[0;34m\u001b[0m\u001b[0m\n\u001b[1;32m    501\u001b[0m         delete_list = [coordinate for coordinate, cell in \\\n\u001b[0;32m--> 502\u001b[0;31m             iteritems(self._cells) if (not cell.merged and cell.value in ('', None) and \\\n\u001b[0m\u001b[1;32m    503\u001b[0m             cell.comment is None and (coordinate not in self._styles or\n\u001b[1;32m    504\u001b[0m             hash(cell.style) == _DEFAULTS_STYLE_HASH))]\n",
      "\u001b[0;32m/Users/tomnahass/anaconda/envs/py3.4/lib/python3.4/site-packages/openpyxl/cell.py\u001b[0m in \u001b[0;36mvalue\u001b[0;34m(self)\u001b[0m\n\u001b[1;32m    327\u001b[0m         \u001b[0mvalue\u001b[0m \u001b[0;34m=\u001b[0m \u001b[0mself\u001b[0m\u001b[0;34m.\u001b[0m\u001b[0m_value\u001b[0m\u001b[0;34m\u001b[0m\u001b[0m\n\u001b[1;32m    328\u001b[0m         \u001b[0;32mif\u001b[0m \u001b[0mself\u001b[0m\u001b[0;34m.\u001b[0m\u001b[0mis_date\u001b[0m\u001b[0;34m(\u001b[0m\u001b[0;34m)\u001b[0m\u001b[0;34m:\u001b[0m\u001b[0;34m\u001b[0m\u001b[0m\n\u001b[0;32m--> 329\u001b[0;31m             \u001b[0mvalue\u001b[0m \u001b[0;34m=\u001b[0m \u001b[0mself\u001b[0m\u001b[0;34m.\u001b[0m\u001b[0m_shared_date\u001b[0m\u001b[0;34m.\u001b[0m\u001b[0mfrom_julian\u001b[0m\u001b[0;34m(\u001b[0m\u001b[0mvalue\u001b[0m\u001b[0;34m)\u001b[0m\u001b[0;34m\u001b[0m\u001b[0m\n\u001b[0m\u001b[1;32m    330\u001b[0m         \u001b[0;32mreturn\u001b[0m \u001b[0mvalue\u001b[0m\u001b[0;34m\u001b[0m\u001b[0m\n\u001b[1;32m    331\u001b[0m \u001b[0;34m\u001b[0m\u001b[0m\n",
      "\u001b[0;32m/Users/tomnahass/anaconda/envs/py3.4/lib/python3.4/site-packages/openpyxl/shared/date_time.py\u001b[0m in \u001b[0;36mfrom_julian\u001b[0;34m(self, value)\u001b[0m\n\u001b[1;32m    170\u001b[0m         \u001b[0;32melse\u001b[0m\u001b[0;34m:\u001b[0m\u001b[0;34m\u001b[0m\u001b[0m\n\u001b[1;32m    171\u001b[0m             \u001b[0mmsg\u001b[0m \u001b[0;34m=\u001b[0m \u001b[0;34m'Negative dates (%s) are not supported'\u001b[0m \u001b[0;34m%\u001b[0m \u001b[0mvalue\u001b[0m\u001b[0;34m\u001b[0m\u001b[0m\n\u001b[0;32m--> 172\u001b[0;31m             \u001b[0;32mraise\u001b[0m \u001b[0mValueError\u001b[0m\u001b[0;34m(\u001b[0m\u001b[0mmsg\u001b[0m\u001b[0;34m)\u001b[0m\u001b[0;34m\u001b[0m\u001b[0m\n\u001b[0m",
      "\u001b[0;31mValueError\u001b[0m: Negative dates (nan) are not supported"
     ]
    }
   ],
   "source": [
    "edit_all_files('named_range_database.csv', excel_dicts) # run this if you want to edit original excel files"
   ]
  },
  {
   "cell_type": "code",
   "execution_count": 34,
   "metadata": {
    "collapsed": false
   },
   "outputs": [],
   "source": [
    "pd.DataFrame(x).to_csv('test.csv')"
   ]
  },
  {
   "cell_type": "code",
   "execution_count": 28,
   "metadata": {
    "collapsed": true
   },
   "outputs": [],
   "source": [
    "x.append(grab_values('Workbook2.xlsm'))"
   ]
  },
  {
   "cell_type": "code",
   "execution_count": 29,
   "metadata": {
    "collapsed": false
   },
   "outputs": [
    {
     "data": {
      "text/plain": [
       "[{'test_1': 911, 'test_2': 4506, 'test_3': 234},\n",
       " {'test_1': 911, 'test_2': 4506, 'test_3': 234}]"
      ]
     },
     "execution_count": 29,
     "metadata": {},
     "output_type": "execute_result"
    }
   ],
   "source": [
    "x"
   ]
  },
  {
   "cell_type": "code",
   "execution_count": 17,
   "metadata": {
    "collapsed": false
   },
   "outputs": [
    {
     "data": {
      "text/plain": [
       "'A1'"
      ]
     },
     "execution_count": 17,
     "metadata": {},
     "output_type": "execute_result"
    }
   ],
   "source": [
    "test_sheet.get_named_ranges()[0].destinations[0][1].replace('$',\"\")"
   ]
  },
  {
   "cell_type": "code",
   "execution_count": 19,
   "metadata": {
    "collapsed": false
   },
   "outputs": [
    {
     "data": {
      "text/plain": [
       "911"
      ]
     },
     "execution_count": 19,
     "metadata": {},
     "output_type": "execute_result"
    }
   ],
   "source": [
    "test_sheet['Sheet1']['A1'].value"
   ]
  },
  {
   "cell_type": "code",
   "execution_count": 36,
   "metadata": {
    "collapsed": true
   },
   "outputs": [],
   "source": [
    "run_program()"
   ]
  },
  {
   "cell_type": "code",
   "execution_count": 41,
   "metadata": {
    "collapsed": false
   },
   "outputs": [
    {
     "data": {
      "text/plain": [
       "'/Volumes/Transcend/development/named'"
      ]
     },
     "execution_count": 41,
     "metadata": {},
     "output_type": "execute_result"
    }
   ],
   "source": [
    "os.getcwd()"
   ]
  },
  {
   "cell_type": "code",
   "execution_count": null,
   "metadata": {
    "collapsed": true
   },
   "outputs": [],
   "source": []
  }
 ],
 "metadata": {
  "kernelspec": {
   "display_name": "Python 3",
   "language": "python",
   "name": "python3"
  },
  "language_info": {
   "codemirror_mode": {
    "name": "ipython",
    "version": 3
   },
   "file_extension": ".py",
   "mimetype": "text/x-python",
   "name": "python",
   "nbconvert_exporter": "python",
   "pygments_lexer": "ipython3",
   "version": "3.4.3"
  }
 },
 "nbformat": 4,
 "nbformat_minor": 0
}
